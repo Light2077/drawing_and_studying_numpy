{
 "cells": [
  {
   "cell_type": "markdown",
   "metadata": {
    "tags": []
   },
   "source": [
    "[上一章:README.md](./README.md)\n",
    "\n",
    "# numpy数组初识\n",
    "\n",
    "下面主要了解numpy最核心的对象——**数组**。\n",
    "\n",
    "整个numpy都在和数组打交道。\n",
    "\n",
    "主要介绍：\n",
    "- 怎样**创建一个数组**\n",
    "- **数组的常用属性**有哪些\n",
    "- 简单了解之后经常用到的概念——**数组的轴**。\n",
    "\n",
    ":bulb:希望通过代码结合图形化的方式在初学者大脑中建立起形象的numpy数组概念，让之后的学习更加丝滑顺畅。\n",
    "\n",
    ":bulb:这是一个本篇内容基础的思维导图，在**文章结尾**会展示更完整的思维导图\n",
    "\n",
    "![](./images/1.numpy数组初识_思维导图1.png)"
   ]
  },
  {
   "cell_type": "code",
   "execution_count": 1,
   "metadata": {
    "ExecuteTime": {
     "end_time": "2021-11-29T01:19:08.130386Z",
     "start_time": "2021-11-29T01:19:02.445532Z"
    }
   },
   "outputs": [
    {
     "data": {
      "text/plain": [
       "'1.22.3'"
      ]
     },
     "execution_count": 1,
     "metadata": {},
     "output_type": "execute_result"
    }
   ],
   "source": [
    "import numpy as np\n",
    "np.__version__"
   ]
  },
  {
   "cell_type": "markdown",
   "metadata": {},
   "source": [
    "## numpy数组简单创建\n",
    "\n",
    "首先通过最原始的方法（**列表**）来创建数组，后续会介绍其他更简便地创建数组的方法。\n",
    "\n",
    "下面用一、二、三维列表分别创建了三个数组。\n"
   ]
  },
  {
   "cell_type": "markdown",
   "metadata": {},
   "source": [
    "![](./images/1.numpy数组初识_创建数组.png)"
   ]
  },
  {
   "cell_type": "markdown",
   "metadata": {},
   "source": [
    "三维数组会比二维数组复杂些，但其实三维数组的本质就是二维数组堆叠形成的，比如"
   ]
  },
  {
   "cell_type": "markdown",
   "metadata": {},
   "source": [
    "![](./images/1.numpy数组初识_创建数组2.png)"
   ]
  },
  {
   "cell_type": "markdown",
   "metadata": {},
   "source": [
    "**创建一维数组**"
   ]
  },
  {
   "cell_type": "code",
   "execution_count": 2,
   "metadata": {
    "ExecuteTime": {
     "end_time": "2021-11-26T09:02:36.884134Z",
     "start_time": "2021-11-26T09:02:36.868177Z"
    }
   },
   "outputs": [
    {
     "data": {
      "text/plain": [
       "array([0, 1, 2, 3])"
      ]
     },
     "execution_count": 2,
     "metadata": {},
     "output_type": "execute_result"
    }
   ],
   "source": [
    "a = np.array([0, 1, 2, 3])\n",
    "a"
   ]
  },
  {
   "cell_type": "markdown",
   "metadata": {},
   "source": [
    "**创建二维数组**"
   ]
  },
  {
   "cell_type": "code",
   "execution_count": 3,
   "metadata": {
    "ExecuteTime": {
     "end_time": "2021-11-26T09:03:53.668862Z",
     "start_time": "2021-11-26T09:03:53.659886Z"
    }
   },
   "outputs": [
    {
     "data": {
      "text/plain": [
       "array([[ 0,  1,  2,  3],\n",
       "       [ 4,  5,  6,  7],\n",
       "       [ 8,  9, 10, 11]])"
      ]
     },
     "execution_count": 3,
     "metadata": {},
     "output_type": "execute_result"
    }
   ],
   "source": [
    "b = np.array([[ 0,  1,  2,  3],\n",
    "              [ 4,  5,  6,  7],\n",
    "              [ 8,  9, 10, 11]])\n",
    "b"
   ]
  },
  {
   "cell_type": "markdown",
   "metadata": {},
   "source": [
    "**创建三维数组**"
   ]
  },
  {
   "cell_type": "code",
   "execution_count": 4,
   "metadata": {},
   "outputs": [
    {
     "data": {
      "text/plain": [
       "array([[[ 0,  1,  2,  3],\n",
       "        [ 4,  5,  6,  7],\n",
       "        [ 8,  9, 10, 11]],\n",
       "\n",
       "       [[12, 13, 14, 15],\n",
       "        [16, 17, 18, 19],\n",
       "        [20, 21, 22, 23]],\n",
       "\n",
       "       [[24, 25, 26, 27],\n",
       "        [28, 29, 30, 31],\n",
       "        [32, 33, 34, 35]]])"
      ]
     },
     "execution_count": 4,
     "metadata": {},
     "output_type": "execute_result"
    }
   ],
   "source": [
    "c = np.array([[[ 0,  1,  2,  3],\n",
    "               [ 4,  5,  6,  7],\n",
    "               [ 8,  9, 10, 11]],\n",
    "\n",
    "              [[12, 13, 14, 15],\n",
    "               [16, 17, 18, 19],\n",
    "               [20, 21, 22, 23]],\n",
    "\n",
    "              [[24, 25, 26, 27],\n",
    "               [28, 29, 30, 31],\n",
    "               [32, 33, 34, 35]]])\n",
    "c"
   ]
  },
  {
   "cell_type": "markdown",
   "metadata": {},
   "source": [
    "## numpy数组常用属性\n",
    "\n",
    "这一小节介绍数组的常用属性，实际使用过程中`.shape`属性是使用最多的，我个人觉得刚开始学知道这个属性就够了，但为了内容丰富一点，这里多介绍了2个属性，这三个常用属性分别为：\n",
    "- `.shape`：数组的**形状**，使用频率最高\n",
    "- `.ndim`：数组的**维数**，使用频率一般\n",
    "- `.astype`：数组的**数据类型**，也比较常用\n",
    "\n",
    "下面介绍这几个属性的具体含义，例如之前我们创建的三个数组：\n",
    "- 一维数组`a`，**1**维，长为**4**\n",
    "- 二维数组`b`，**2**维，长为**3**宽为**4**\n",
    "- 三维数组`c`，**3**维，深度为**3**长为**3**宽为**4**\n",
    "\n",
    "可以通过`ndim`属性查看**维数**，通过`shape`属性查看**形状**"
   ]
  },
  {
   "cell_type": "code",
   "execution_count": 5,
   "metadata": {},
   "outputs": [
    {
     "name": "stdout",
     "output_type": "stream",
     "text": [
      "a.ndim: 1 a.shape: (4,)\n",
      "b.ndim: 2 b.shape: (3, 4)\n",
      "c.ndim: 3 c.shape: (3, 3, 4)\n"
     ]
    }
   ],
   "source": [
    "print('a.ndim:', a.ndim, 'a.shape:', a.shape)\n",
    "print('b.ndim:', b.ndim, 'b.shape:', b.shape)\n",
    "print('c.ndim:', c.ndim, 'c.shape:', c.shape)"
   ]
  },
  {
   "cell_type": "markdown",
   "metadata": {},
   "source": [
    "通过`.dtype`属性查看数组的**数据类型**"
   ]
  },
  {
   "cell_type": "code",
   "execution_count": 6,
   "metadata": {},
   "outputs": [
    {
     "name": "stdout",
     "output_type": "stream",
     "text": [
      "a.dtype: int32\n",
      "b.dtype: int32\n",
      "c.dtype: int32\n"
     ]
    }
   ],
   "source": [
    "print('a.dtype:', a.dtype)\n",
    "print('b.dtype:', b.dtype)\n",
    "print('c.dtype:', c.dtype)"
   ]
  },
  {
   "cell_type": "markdown",
   "metadata": {},
   "source": [
    "用图像表示就是：\n",
    "\n",
    "![](./images/1.numpy数组初识_数组常用属性1.png)"
   ]
  },
  {
   "cell_type": "markdown",
   "metadata": {
    "tags": []
   },
   "source": [
    "## numpy数组轴的概念\n",
    "\n",
    "> 提示\n",
    ">\n",
    "> 这里先引入了轴的概念，一开始可以不用深究，了解有这么个东西就行，因为我一开始对这一概念也模模糊糊的。结合后面的内容会更容易了解轴的概念\n",
    "\n",
    "轴的概念简单介绍：\n",
    "\n",
    "可以把轴理解为第几个维度，比如之前的数组`c`的维数是三，那`axis=0`就是第一维，`axis=1`，`axis=2`分别是第二第三维。\n",
    "\n",
    "- 在numpy中，通常用`axis=0`, `axis=1`的形式表示轴的编号。\n",
    "- 数组有几维，数组就有几个轴。例如一维数组只有一个轴，二维数组就有两个轴，二维数组的轴就相当于换个名称来表示二维数组的行和列，比如`axis=0`相当于行，`axis=1`相当于列。\n",
    "\n",
    "具体可以看下图："
   ]
  },
  {
   "cell_type": "markdown",
   "metadata": {},
   "source": [
    "![](./images/1.numpy数组初识_数组轴的概念1.png)"
   ]
  },
  {
   "cell_type": "markdown",
   "metadata": {},
   "source": [
    "**如何快速记忆不同维度的数组，每个轴都代表什么？**\n",
    "\n",
    "比如，如何快速记忆三维数组 `axis=1` 是哪个轴？\n",
    "\n",
    "其实很简单，记住一个口诀：**右下里**，依次递减。\n",
    "\n",
    "解释：\n",
    "- 最高维的轴朝右\n",
    "- 第二个轴朝下\n",
    "- 第三个轴朝里\n",
    "\n",
    "比如上图的二维数组和三维数组，最高维的轴分别是`axis=1`和`axis=2`，都是**朝右**的。\n",
    "\n",
    "然后二维数组和三维数组的第二维的轴，分别是`axis=0`和`axis=1`，都是**朝下**的\n",
    "\n",
    "三维数组最后一个轴,`axis=0` 则是**朝里**的。\n",
    "\n",
    "自然，只有一个轴的一维数组，最高维的轴是`axis=0`，也是**朝右**的\n",
    "\n",
    "因此，只要结合好上面这张图，加上**右下里**这个口诀，就能图形化地把数组这个形象记在脑中了。\n",
    "\n",
    "> 提示\n",
    ">\n",
    ">**右下里**该怎么记？\n",
    ">\n",
    ">自创个口诀，比如：我自**幼(右)**就喜欢**下**地**里**干活\n",
    ">\n",
    ">当然也可以硬记，反正只有3个字。\n",
    ">\n",
    ">\n",
    ">**超过三维**怎么办？\n",
    ">\n",
    ">方法有两个：\n",
    ">- 1.**无视**：别管大于三维的数组了，反正用得也不多。\n",
    ">- 2.**套娃**：比如遇到四维数组，就把三维数组打包成一个小盒子，然后四维数组就相当于多个盒子排成长条，就变成一维数组了。"
   ]
  },
  {
   "cell_type": "markdown",
   "metadata": {},
   "source": [
    "因为通过二层列表创建的数组就是二维数组。所以当绘图中出现单独的一列时，这也是一个二维数组。\n",
    "\n",
    "通过二维列表创建二维数组，每个嵌套的列表只有一个元素。"
   ]
  },
  {
   "cell_type": "markdown",
   "metadata": {},
   "source": [
    "![](./images/1.numpy数组初识_创建数组3.png)"
   ]
  },
  {
   "cell_type": "code",
   "execution_count": 9,
   "metadata": {
    "ExecuteTime": {
     "end_time": "2021-12-01T02:28:50.522894Z",
     "start_time": "2021-12-01T02:28:50.513918Z"
    }
   },
   "outputs": [
    {
     "name": "stdout",
     "output_type": "stream",
     "text": [
      "[[0]\n",
      " [1]\n",
      " [2]]\n"
     ]
    }
   ],
   "source": [
    "b2 = np.array([[0],\n",
    "               [1],\n",
    "               [2]])\n",
    "print(b2)"
   ]
  },
  {
   "cell_type": "code",
   "execution_count": 10,
   "metadata": {
    "ExecuteTime": {
     "end_time": "2021-12-01T02:29:13.531414Z",
     "start_time": "2021-12-01T02:29:13.525432Z"
    }
   },
   "outputs": [
    {
     "name": "stdout",
     "output_type": "stream",
     "text": [
      "b2.ndim: 2 b2.shape: (3, 1)\n"
     ]
    }
   ],
   "source": [
    "print('b2.ndim:', b2.ndim, 'b2.shape:', b2.shape)"
   ]
  },
  {
   "cell_type": "markdown",
   "metadata": {},
   "source": [
    "> 提示\n",
    ">\n",
    ">本文中出现的变量名的一些约定\n",
    ">\n",
    ">- 字母`a`, `b`, `c`, 分别表示一、二、三维数组\n",
    ">- 如果出现多个一维数组，则用`a1`, `a2`, ...表示。出现多个二维、三维数组时同理"
   ]
  },
  {
   "cell_type": "markdown",
   "metadata": {},
   "source": [
    "## 小结\n",
    "\n",
    "![](./images/1.numpy数组初识_思维导图2.png)\n",
    "\n",
    "[下一章:2.numpy数组创建](./2.numpy数组创建.md)"
   ]
  }
 ],
 "metadata": {
  "kernelspec": {
   "display_name": "Python 3 (ipykernel)",
   "language": "python",
   "name": "python3"
  },
  "language_info": {
   "codemirror_mode": {
    "name": "ipython",
    "version": 3
   },
   "file_extension": ".py",
   "mimetype": "text/x-python",
   "name": "python",
   "nbconvert_exporter": "python",
   "pygments_lexer": "ipython3",
   "version": "3.8.5"
  },
  "toc": {
   "base_numbering": 1,
   "nav_menu": {},
   "number_sections": true,
   "sideBar": true,
   "skip_h1_title": false,
   "title_cell": "Table of Contents",
   "title_sidebar": "Contents",
   "toc_cell": false,
   "toc_position": {
    "height": "calc(100% - 180px)",
    "left": "10px",
    "top": "150px",
    "width": "165px"
   },
   "toc_section_display": true,
   "toc_window_display": true
  }
 },
 "nbformat": 4,
 "nbformat_minor": 4
}
