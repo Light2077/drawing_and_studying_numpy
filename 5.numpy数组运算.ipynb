{
 "cells": [
  {
   "cell_type": "markdown",
   "metadata": {
    "tags": []
   },
   "source": [
    "[上一章:4.numpy数组索引](./4.numpy数组索引.md)\n",
    "\n",
    "# numpy数组运算"
   ]
  },
  {
   "cell_type": "markdown",
   "metadata": {},
   "source": [
    "![](./images/5..numpy数组运算_思维导图1.png)"
   ]
  },
  {
   "cell_type": "code",
   "execution_count": 1,
   "metadata": {
    "ExecuteTime": {
     "end_time": "2021-12-01T02:22:26.213984Z",
     "start_time": "2021-12-01T02:22:26.052417Z"
    }
   },
   "outputs": [
    {
     "name": "stdout",
     "output_type": "stream",
     "text": [
      "1.22.3\n"
     ]
    }
   ],
   "source": [
    "import numpy as np\n",
    "print(np.__version__)"
   ]
  },
  {
   "cell_type": "markdown",
   "metadata": {
    "tags": []
   },
   "source": [
    "## 基本运算\n",
    "\n",
    "四则运算：(`+-*/`)\n",
    "以及求模(`%`)、取整(`//`) 、乘方(`**`)\n",
    "\n",
    "比较运算：`==`, `!=`, `>`, `<`, `>=`, `<=`\n",
    "\n",
    "矩阵乘法：`@`\n"
   ]
  },
  {
   "cell_type": "markdown",
   "metadata": {},
   "source": [
    "### 四则运算"
   ]
  },
  {
   "cell_type": "markdown",
   "metadata": {},
   "source": [
    "一维数组与标量相加"
   ]
  },
  {
   "cell_type": "code",
   "execution_count": 2,
   "metadata": {},
   "outputs": [
    {
     "data": {
      "text/plain": [
       "array([5, 6, 7, 8])"
      ]
     },
     "execution_count": 2,
     "metadata": {},
     "output_type": "execute_result"
    }
   ],
   "source": [
    "a = np.array([0, 1, 2, 3])\n",
    "a + 5"
   ]
  },
  {
   "cell_type": "markdown",
   "metadata": {},
   "source": [
    "一维数组求模"
   ]
  },
  {
   "cell_type": "code",
   "execution_count": 3,
   "metadata": {},
   "outputs": [
    {
     "data": {
      "text/plain": [
       "array([0, 1, 0, 1], dtype=int32)"
      ]
     },
     "execution_count": 3,
     "metadata": {},
     "output_type": "execute_result"
    }
   ],
   "source": [
    "a % 2"
   ]
  },
  {
   "cell_type": "markdown",
   "metadata": {},
   "source": [
    "两个长度相同的一维数组相减"
   ]
  },
  {
   "cell_type": "code",
   "execution_count": 4,
   "metadata": {},
   "outputs": [
    {
     "data": {
      "text/plain": [
       "array([2, 3, 4, 5])"
      ]
     },
     "execution_count": 4,
     "metadata": {},
     "output_type": "execute_result"
    }
   ],
   "source": [
    "a2 = np.array([2, 4, 6, 8])\n",
    "a2 - a"
   ]
  },
  {
   "cell_type": "markdown",
   "metadata": {},
   "source": [
    "二维数组与标量相乘"
   ]
  },
  {
   "cell_type": "code",
   "execution_count": 5,
   "metadata": {},
   "outputs": [
    {
     "data": {
      "text/plain": [
       "array([[ 6, 12, 18],\n",
       "       [12, 24, 36]])"
      ]
     },
     "execution_count": 5,
     "metadata": {},
     "output_type": "execute_result"
    }
   ],
   "source": [
    "b = np.array([[ 2, 4,  6],\n",
    "              [ 4, 8, 12]])\n",
    "b * 3"
   ]
  },
  {
   "cell_type": "markdown",
   "metadata": {},
   "source": [
    "两个形状相同的二维数组相乘"
   ]
  },
  {
   "cell_type": "code",
   "execution_count": 6,
   "metadata": {},
   "outputs": [
    {
     "data": {
      "text/plain": [
       "array([[ 0,  4, 12],\n",
       "       [12, 32, 60]])"
      ]
     },
     "execution_count": 6,
     "metadata": {},
     "output_type": "execute_result"
    }
   ],
   "source": [
    "b2 = np.array([[0, 1, 2],\n",
    "               [3, 4, 5]])\n",
    "b * b2"
   ]
  },
  {
   "cell_type": "markdown",
   "metadata": {
    "ExecuteTime": {
     "end_time": "2021-12-01T02:22:34.273075Z",
     "start_time": "2021-12-01T02:22:34.268091Z"
    }
   },
   "source": [
    "二维数组除一行"
   ]
  },
  {
   "cell_type": "code",
   "execution_count": 7,
   "metadata": {
    "ExecuteTime": {
     "end_time": "2021-12-01T02:22:35.507273Z",
     "start_time": "2021-12-01T02:22:35.500290Z"
    }
   },
   "outputs": [
    {
     "data": {
      "text/plain": [
       "array([[2., 2., 2.],\n",
       "       [4., 4., 4.]])"
      ]
     },
     "execution_count": 7,
     "metadata": {},
     "output_type": "execute_result"
    }
   ],
   "source": [
    "a3 = np.array([1, 2, 3])\n",
    "b / a3"
   ]
  },
  {
   "cell_type": "markdown",
   "metadata": {},
   "source": [
    "二维数组除一列"
   ]
  },
  {
   "cell_type": "code",
   "execution_count": 8,
   "metadata": {
    "ExecuteTime": {
     "end_time": "2021-12-01T02:23:27.507738Z",
     "start_time": "2021-12-01T02:23:27.501723Z"
    }
   },
   "outputs": [
    {
     "data": {
      "text/plain": [
       "array([[1., 2., 3.],\n",
       "       [1., 2., 3.]])"
      ]
     },
     "execution_count": 8,
     "metadata": {},
     "output_type": "execute_result"
    }
   ],
   "source": [
    "b3 = np.array([[2],\n",
    "               [4]])\n",
    "b / b3"
   ]
  },
  {
   "cell_type": "markdown",
   "metadata": {},
   "source": [
    "取整、乘方略，计算规律同上"
   ]
  },
  {
   "cell_type": "markdown",
   "metadata": {},
   "source": [
    "![](./images/5.numpy数组运算_基本运算1.png)"
   ]
  },
  {
   "cell_type": "markdown",
   "metadata": {},
   "source": [
    "### 比较运算"
   ]
  },
  {
   "cell_type": "markdown",
   "metadata": {},
   "source": [
    "一维数组与标量比较"
   ]
  },
  {
   "cell_type": "code",
   "execution_count": 9,
   "metadata": {},
   "outputs": [
    {
     "data": {
      "text/plain": [
       "array([False, False,  True, False])"
      ]
     },
     "execution_count": 9,
     "metadata": {},
     "output_type": "execute_result"
    }
   ],
   "source": [
    "a = np.array([0, 1, 2, 3])\n",
    "a == 2"
   ]
  },
  {
   "cell_type": "markdown",
   "metadata": {},
   "source": [
    "二维数组与一列比较"
   ]
  },
  {
   "cell_type": "code",
   "execution_count": 14,
   "metadata": {},
   "outputs": [
    {
     "data": {
      "text/plain": [
       "array([[False, False,  True,  True],\n",
       "       [False, False,  True,  True]])"
      ]
     },
     "execution_count": 14,
     "metadata": {},
     "output_type": "execute_result"
    }
   ],
   "source": [
    "b5 = np.array([[3],\n",
    "               [30]])\n",
    "\n",
    "b >= b5"
   ]
  },
  {
   "cell_type": "markdown",
   "metadata": {},
   "source": [
    "两个形状相同的二维数组比较"
   ]
  },
  {
   "cell_type": "code",
   "execution_count": 13,
   "metadata": {},
   "outputs": [
    {
     "data": {
      "text/plain": [
       "array([[False,  True, False,  True],\n",
       "       [ True, False,  True, False]])"
      ]
     },
     "execution_count": 13,
     "metadata": {},
     "output_type": "execute_result"
    }
   ],
   "source": [
    "b = np.array([[ 1,  2,  3,  4],\n",
    "              [10, 20, 30, 40]])\n",
    "\n",
    "b4 = np.array([[  0, 5,  0, 5],\n",
    "               [ 50, 0, 50, 0]])\n",
    "b < b4"
   ]
  },
  {
   "cell_type": "markdown",
   "metadata": {},
   "source": [
    "![](./images/5.numpy数组运算_比较运算.png)"
   ]
  },
  {
   "cell_type": "markdown",
   "metadata": {
    "tags": []
   },
   "source": [
    "### 矩阵乘法"
   ]
  },
  {
   "cell_type": "code",
   "execution_count": 18,
   "metadata": {},
   "outputs": [
    {
     "data": {
      "text/plain": [
       "array([22, 28])"
      ]
     },
     "execution_count": 18,
     "metadata": {},
     "output_type": "execute_result"
    }
   ],
   "source": [
    "a = np.array([1, 2, 3])\n",
    "b = np.array([[1, 2],\n",
    "              [3, 4],\n",
    "              [5, 6]])\n",
    "\n",
    "a @ b"
   ]
  },
  {
   "cell_type": "code",
   "execution_count": 19,
   "metadata": {},
   "outputs": [
    {
     "data": {
      "text/plain": [
       "array([22, 28])"
      ]
     },
     "execution_count": 19,
     "metadata": {},
     "output_type": "execute_result"
    }
   ],
   "source": [
    "a.dot(b)"
   ]
  },
  {
   "cell_type": "code",
   "execution_count": 20,
   "metadata": {},
   "outputs": [
    {
     "data": {
      "text/plain": [
       "array([22, 28])"
      ]
     },
     "execution_count": 20,
     "metadata": {},
     "output_type": "execute_result"
    }
   ],
   "source": [
    "np.dot(a, b)"
   ]
  },
  {
   "cell_type": "markdown",
   "metadata": {},
   "source": [
    "![](./images/5.numpy数组运算_矩阵运算.png)"
   ]
  },
  {
   "cell_type": "markdown",
   "metadata": {},
   "source": [
    "## 常量"
   ]
  },
  {
   "cell_type": "markdown",
   "metadata": {},
   "source": [
    "### 圆周率 π"
   ]
  },
  {
   "cell_type": "code",
   "execution_count": 9,
   "metadata": {},
   "outputs": [
    {
     "data": {
      "text/plain": [
       "3.141592653589793"
      ]
     },
     "execution_count": 9,
     "metadata": {},
     "output_type": "execute_result"
    }
   ],
   "source": [
    "np.pi"
   ]
  },
  {
   "cell_type": "markdown",
   "metadata": {},
   "source": [
    "### 自然对数 e"
   ]
  },
  {
   "cell_type": "code",
   "execution_count": 10,
   "metadata": {},
   "outputs": [
    {
     "data": {
      "text/plain": [
       "2.718281828459045"
      ]
     },
     "execution_count": 10,
     "metadata": {},
     "output_type": "execute_result"
    }
   ],
   "source": [
    "np.e"
   ]
  },
  {
   "cell_type": "markdown",
   "metadata": {},
   "source": [
    "## 常用运算函数\n",
    "\n",
    "常用的运算函数，会对数组中的每个元素执行运算\n",
    "\n",
    "- `np.sqrt(arr)`: 开二次根号\n",
    "- `np.square(arr)`: 求平方相当于`arr ** 2`\n",
    "- `np.sin(arr)`: sin函数\n",
    "- `np.cos(arr)`: cos函数\n",
    "- `np.exp(arr)`: e的次幂\n",
    "- `np.log(arr)`: 以e为底的对数"
   ]
  },
  {
   "cell_type": "code",
   "execution_count": 21,
   "metadata": {},
   "outputs": [
    {
     "data": {
      "text/plain": [
       "array([1.        , 1.41421356, 1.73205081, 2.        ])"
      ]
     },
     "execution_count": 21,
     "metadata": {},
     "output_type": "execute_result"
    }
   ],
   "source": [
    "a = np.array([1, 2, 3, 4])\n",
    "np.square(a)"
   ]
  },
  {
   "cell_type": "code",
   "execution_count": 23,
   "metadata": {},
   "outputs": [
    {
     "data": {
      "text/plain": [
       "array([[1., 2., 3.],\n",
       "       [4., 5., 6.]])"
      ]
     },
     "execution_count": 23,
     "metadata": {},
     "output_type": "execute_result"
    }
   ],
   "source": [
    "b = np.array([[ 1,  4,  9],\n",
    "              [16, 25, 36]])\n",
    "np.sqrt(b)"
   ]
  },
  {
   "cell_type": "markdown",
   "metadata": {},
   "source": [
    "其他函数的使用同上，会对数组的每个元素应用相应的运算函数。"
   ]
  },
  {
   "cell_type": "markdown",
   "metadata": {},
   "source": [
    "![](./images/5.numpy数组运算_常用运算函数.png)"
   ]
  },
  {
   "cell_type": "markdown",
   "metadata": {},
   "source": [
    "## 常用统计函数\n",
    "\n",
    "常用的统计函数，统计函数和运算函数的一大区别是：\n",
    "\n",
    "运算函数计算的结果与原数组的形状一样，而**统计函数计算结果数组形状与原数组不一样**。\n",
    "\n",
    "- `ndarray.max()`: 求数组最大值\n",
    "- `ndarray.min()`: 求数组最小值\n",
    "- `ndarray.mean()`: 求数组均值\n",
    "- `ndarray.std()`: 求数组标准差\n",
    "- `ndarray.var()`: 求数组方差\n",
    "- `ndarray.sum()`: 数组求和\n",
    "- `ndarray.argmax()`: 求数组最大值所在的位置\n",
    "- `ndarray.argmin()`: 求数组最小值所在的位置"
   ]
  },
  {
   "cell_type": "markdown",
   "metadata": {},
   "source": [
    "上面这些函数，用法都大差不差。它们都有`axis`这个参数，主要就是控制这个参数。\n",
    "\n",
    "因此只需要掌握参数`axis`的对数组计算结果有何影响即可。\n",
    "\n",
    "如果不指定轴`axis`，默认对整个数组计算统计量"
   ]
  },
  {
   "cell_type": "markdown",
   "metadata": {},
   "source": [
    "### axis=None"
   ]
  },
  {
   "cell_type": "markdown",
   "metadata": {},
   "source": [
    "下面以一个二维数组来举例"
   ]
  },
  {
   "cell_type": "code",
   "execution_count": 26,
   "metadata": {},
   "outputs": [
    {
     "name": "stdout",
     "output_type": "stream",
     "text": [
      "b.max(): 50\n",
      "b.min(): 1\n",
      "b.mean(): 16.0\n",
      "b.std(): 15.297058540778355\n",
      "b.var(): 234.0\n",
      "b.sum(): 144\n",
      "b.argmax(): 4\n",
      "b.argmin(): 0\n"
     ]
    }
   ],
   "source": [
    "b = np.array([[ 1,  3,  5],\n",
    "              [30, 50, 10],\n",
    "              [25, 15,  5]])\n",
    "\n",
    "print('b.max():', b.max())\n",
    "print('b.min():', b.min())\n",
    "print('b.mean():', b.mean())\n",
    "print('b.std():', b.std())\n",
    "print('b.var():', b.var())\n",
    "print('b.sum():', b.sum())\n",
    "print('b.argmax():', b.argmax())\n",
    "print('b.argmin():', b.argmin())"
   ]
  },
  {
   "cell_type": "markdown",
   "metadata": {},
   "source": [
    "这里需要单独解释一下`argmax()`和`argmin()`函数，这两个函数分别表示数组中最大值、最小值所在的位置。\n",
    "\n",
    "- `b.argmax(): 4`就表示：数组b中，最大值是第4个（从0开始数）元素。也就是50\n",
    "- `b.argmin(): 0`就表示：数组b中，最小值是第0个（从0开始数）元素。也就是1\n"
   ]
  },
  {
   "cell_type": "markdown",
   "metadata": {},
   "source": [
    "![](./images/5.numpy数组运算_常用统计函数.png)"
   ]
  },
  {
   "cell_type": "markdown",
   "metadata": {},
   "source": [
    "为避免冗余，下面用`max()`和`argmax()`来展现更改`axis`带来的效果"
   ]
  },
  {
   "cell_type": "markdown",
   "metadata": {},
   "source": [
    "### axis=1\n",
    "\n",
    "回忆之前的`右下里原则`，这里是二维数组，那么`axis=1`表示方向**向右**。\n",
    "\n",
    "也就是沿着向右的方向来计算统计值\n",
    "\n",
    "可以理解为计算每一**行**的**最大值(max)**，和**最大值所在的位置(argmax)**"
   ]
  },
  {
   "cell_type": "code",
   "execution_count": 30,
   "metadata": {},
   "outputs": [
    {
     "data": {
      "text/plain": [
       "array([[ 1,  3,  5],\n",
       "       [30, 50, 10],\n",
       "       [25, 15,  5]])"
      ]
     },
     "execution_count": 30,
     "metadata": {},
     "output_type": "execute_result"
    }
   ],
   "source": [
    "b"
   ]
  },
  {
   "cell_type": "code",
   "execution_count": 28,
   "metadata": {},
   "outputs": [
    {
     "name": "stdout",
     "output_type": "stream",
     "text": [
      "b.max(axis=1): [ 5 50 25]\n",
      "b.argmax(axis=1): [2 1 0]\n"
     ]
    }
   ],
   "source": [
    "print(\"b.max(axis=1):\", b.max(axis=1))\n",
    "print(\"b.argmax(axis=1):\", b.argmax(axis=1))"
   ]
  },
  {
   "cell_type": "markdown",
   "metadata": {},
   "source": [
    "上面的结果就表示，每一行的最大值分别为5、50和25\n",
    "\n",
    "最大值所在的位置分别为第2个、第1个、和第0个"
   ]
  },
  {
   "cell_type": "markdown",
   "metadata": {},
   "source": [
    "### axis=0\n",
    "\n",
    "`axis=0`表示方向**向下**。\n",
    "\n",
    "可以理解为计算每一**列**的**最大值(max)**，和**最大值所在的位置(argmax)**"
   ]
  },
  {
   "cell_type": "code",
   "execution_count": 29,
   "metadata": {},
   "outputs": [
    {
     "name": "stdout",
     "output_type": "stream",
     "text": [
      "b.max(axis=0): [30 50 10]\n",
      "b.argmax(axis=0): [1 1 1]\n"
     ]
    }
   ],
   "source": [
    "print(\"b.max(axis=0):\", b.max(axis=0))\n",
    "print(\"b.argmax(axis=0):\", b.argmax(axis=0))"
   ]
  },
  {
   "cell_type": "markdown",
   "metadata": {},
   "source": [
    "![](./images/5.numpy数组运算_常用统计函数2.png)"
   ]
  },
  {
   "cell_type": "markdown",
   "metadata": {},
   "source": [
    "此外，也可以用`np.max()`的形式求统计值，差别在于使用`np.max()`时，**第一个参数要填数组**，其他完全一致\n",
    "\n",
    "以下几种写法是等价的："
   ]
  },
  {
   "cell_type": "code",
   "execution_count": 35,
   "metadata": {},
   "outputs": [
    {
     "name": "stdout",
     "output_type": "stream",
     "text": [
      "True\n",
      "[ True  True  True]\n"
     ]
    }
   ],
   "source": [
    "print(np.max(b)  ==  b.max())\n",
    "print(np.argmax(b, axis=1) == b.argmax(axis=1))"
   ]
  },
  {
   "cell_type": "markdown",
   "metadata": {
    "tags": []
   },
   "source": [
    "## 小结"
   ]
  },
  {
   "cell_type": "markdown",
   "metadata": {},
   "source": [
    "![](./images/5..numpy数组运算_思维导图2.png)\n",
    "\n",
    "[回到README](./README.md)"
   ]
  }
 ],
 "metadata": {
  "kernelspec": {
   "display_name": "Python 3 (ipykernel)",
   "language": "python",
   "name": "python3"
  },
  "language_info": {
   "codemirror_mode": {
    "name": "ipython",
    "version": 3
   },
   "file_extension": ".py",
   "mimetype": "text/x-python",
   "name": "python",
   "nbconvert_exporter": "python",
   "pygments_lexer": "ipython3",
   "version": "3.8.5"
  },
  "toc": {
   "base_numbering": 1,
   "nav_menu": {},
   "number_sections": true,
   "sideBar": true,
   "skip_h1_title": false,
   "title_cell": "Table of Contents",
   "title_sidebar": "Contents",
   "toc_cell": false,
   "toc_position": {},
   "toc_section_display": true,
   "toc_window_display": true
  }
 },
 "nbformat": 4,
 "nbformat_minor": 4
}
