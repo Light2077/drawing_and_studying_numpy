{
 "cells": [
  {
   "cell_type": "markdown",
   "metadata": {},
   "source": [
    "# numpy数组创建\n",
    "\n",
    "上一小节中，创建一个长为4的1维数组要写4个数字，如果要创建一个长为100的数组，就要写100个数字，未免太麻烦了一点。\n",
    "\n",
    "本小节，将介绍一系列十分常用且方便的数组创建方法：\n",
    "- **等间隔数组**：数组两两之间间隔相同，类似等差数列。\n",
    "- **全等数组**：数组里所有元素都相同。\n",
    "- **随机数组**：按要求随机生成数组，做模拟的时候很有用。"
   ]
  },
  {
   "cell_type": "markdown",
   "metadata": {},
   "source": [
    "![](./images/2.numpy数组创建_思维导图1.png)"
   ]
  },
  {
   "cell_type": "code",
   "execution_count": 1,
   "metadata": {
    "ExecuteTime": {
     "end_time": "2021-11-30T01:58:22.810491Z",
     "start_time": "2021-11-30T01:58:22.520268Z"
    }
   },
   "outputs": [
    {
     "name": "stdout",
     "output_type": "stream",
     "text": [
      "1.22.3\n"
     ]
    }
   ],
   "source": [
    "import numpy as np\n",
    "print(np.__version__)"
   ]
  },
  {
   "cell_type": "markdown",
   "metadata": {},
   "source": [
    "## 等间隔数组\n",
    "\n",
    "以下两个函数只能创建一维数组。\n",
    "\n",
    "- `np.arange()`: 按照给定的**步长**根据起点和终点生成一维数组\n",
    "- `np.linspace()`: 按照给定的**数组长度**，均匀划分起点到终点的距离生成一维数组"
   ]
  },
  {
   "cell_type": "markdown",
   "metadata": {},
   "source": [
    "### np.arange()\n",
    "\n",
    ":book:[官方文档](https://numpy.org/doc/stable/reference/generated/numpy.arange.html)\n",
    "\n",
    "```python\n",
    "numpy.arange(start, end, step, ...)\n",
    "```"
   ]
  },
  {
   "cell_type": "markdown",
   "metadata": {},
   "source": [
    "`np.arange()`函数和python自带的`range()`函数十分类似。\n",
    "\n",
    "- `start`: 起点，默认为0\n",
    "- `end`: 终点\n",
    "- `step`: 步长，默认为1\n",
    "\n",
    "\n",
    "从起点开始，每次按步长递增生成数组，**生成的数组不包括终点**\n",
    "\n",
    "只有一个参数时，会默认从0开始，以步长1生成数组。"
   ]
  },
  {
   "cell_type": "markdown",
   "metadata": {},
   "source": [
    "![](./images/2.numpy数组创建_np.arange1.png)"
   ]
  },
  {
   "cell_type": "code",
   "execution_count": 2,
   "metadata": {
    "ExecuteTime": {
     "end_time": "2021-11-30T01:58:22.820491Z",
     "start_time": "2021-11-30T01:58:22.814480Z"
    }
   },
   "outputs": [
    {
     "name": "stdout",
     "output_type": "stream",
     "text": [
      "[0 1 2 3]\n"
     ]
    }
   ],
   "source": [
    "a = np.arange(4)\n",
    "print(a)"
   ]
  },
  {
   "cell_type": "markdown",
   "metadata": {},
   "source": [
    "> 提示\n",
    ">\n",
    ">为了文档更加简洁，下面的代码块省略赋值后再`print`的操作。\n",
    ">\n",
    ">坐标轴上的空心圆表示生成的数组不包括这个点。"
   ]
  },
  {
   "cell_type": "markdown",
   "metadata": {},
   "source": [
    "只有两个参数时，表示指定了起点和终点，默认以步长1生成数组。"
   ]
  },
  {
   "cell_type": "markdown",
   "metadata": {},
   "source": [
    "![](./images/2.numpy数组创建_np.arange2.png)"
   ]
  },
  {
   "cell_type": "code",
   "execution_count": 3,
   "metadata": {
    "ExecuteTime": {
     "end_time": "2021-11-30T01:58:22.862353Z",
     "start_time": "2021-11-30T01:58:22.826454Z"
    }
   },
   "outputs": [
    {
     "data": {
      "text/plain": [
       "array([2, 3, 4, 5])"
      ]
     },
     "execution_count": 3,
     "metadata": {},
     "output_type": "execute_result"
    }
   ],
   "source": [
    "np.arange(2, 6)"
   ]
  },
  {
   "cell_type": "markdown",
   "metadata": {},
   "source": [
    "从2开始到9结束，步长为2"
   ]
  },
  {
   "cell_type": "markdown",
   "metadata": {},
   "source": [
    "![](./images/2.numpy数组创建_np.arange3.png)"
   ]
  },
  {
   "cell_type": "code",
   "execution_count": 4,
   "metadata": {
    "ExecuteTime": {
     "end_time": "2021-11-30T01:58:22.883302Z",
     "start_time": "2021-11-30T01:58:22.868338Z"
    }
   },
   "outputs": [
    {
     "data": {
      "text/plain": [
       "array([2, 4, 6, 8])"
      ]
     },
     "execution_count": 4,
     "metadata": {},
     "output_type": "execute_result"
    }
   ],
   "source": [
    "np.arange(2, 9, 2)"
   ]
  },
  {
   "cell_type": "markdown",
   "metadata": {},
   "source": [
    "和`range`的一大区别是`np.arange`的步长可以是小数\n",
    "\n",
    "小数的创建规律同整数"
   ]
  },
  {
   "cell_type": "markdown",
   "metadata": {},
   "source": [
    "![](./images/2.numpy数组创建_np.arange4.png)"
   ]
  },
  {
   "cell_type": "code",
   "execution_count": 5,
   "metadata": {
    "ExecuteTime": {
     "end_time": "2021-11-30T01:58:22.903256Z",
     "start_time": "2021-11-30T01:58:22.888287Z"
    }
   },
   "outputs": [
    {
     "data": {
      "text/plain": [
       "array([1. , 1.1, 1.2, 1.3])"
      ]
     },
     "execution_count": 5,
     "metadata": {},
     "output_type": "execute_result"
    }
   ],
   "source": [
    "np.arange(1, 1.4, 0.1)"
   ]
  },
  {
   "cell_type": "markdown",
   "metadata": {},
   "source": [
    "> 提示\n",
    ">\n",
    ">再次提醒`np.arange(start, end, step)`，这个函数生成的数组不包含`end`值\n",
    ">"
   ]
  },
  {
   "cell_type": "markdown",
   "metadata": {},
   "source": [
    "### np.linspace()\n",
    "\n",
    ":book:[官方文档](https://numpy.org/doc/stable/reference/generated/numpy.linspace.html)\n",
    "\n",
    "```python\n",
    "numpy.linspace(start, end, num=50, ...)\n",
    "```\n",
    "\n",
    "- `start`: 起点\n",
    "- `end`: 终点\n",
    "- `num`: 一维数组长度\n",
    "\n",
    "根据起点和终点生成间隔相同的一维数组，**生成的数组包括终点**，数组长度为`num`\n",
    "\n",
    "下面以1作为起点，4作为终点，尝试不同的`num`以了解`np.linspace`的使用"
   ]
  },
  {
   "cell_type": "markdown",
   "metadata": {},
   "source": [
    "`num=5`时，生成的数组长度为5，生成的数组包含了起点1和终点4，且前后两个元素的间隔相等"
   ]
  },
  {
   "cell_type": "markdown",
   "metadata": {},
   "source": [
    "![](./images/2.numpy数组创建_np.linspace1.png)"
   ]
  },
  {
   "cell_type": "code",
   "execution_count": 6,
   "metadata": {
    "ExecuteTime": {
     "end_time": "2021-11-30T01:58:22.924189Z",
     "start_time": "2021-11-30T01:58:22.910227Z"
    }
   },
   "outputs": [
    {
     "data": {
      "text/plain": [
       "array([1.  , 1.75, 2.5 , 3.25, 4.  ])"
      ]
     },
     "execution_count": 6,
     "metadata": {},
     "output_type": "execute_result"
    }
   ],
   "source": [
    "np.linspace(1, 4, num=5)"
   ]
  },
  {
   "cell_type": "markdown",
   "metadata": {},
   "source": [
    "`num=4`时"
   ]
  },
  {
   "cell_type": "markdown",
   "metadata": {},
   "source": [
    "![](./images/2.numpy数组创建_np.linspace2.png)"
   ]
  },
  {
   "cell_type": "code",
   "execution_count": 7,
   "metadata": {
    "ExecuteTime": {
     "end_time": "2021-11-30T01:58:22.945137Z",
     "start_time": "2021-11-30T01:58:22.930177Z"
    }
   },
   "outputs": [
    {
     "data": {
      "text/plain": [
       "array([1., 2., 3., 4.])"
      ]
     },
     "execution_count": 7,
     "metadata": {},
     "output_type": "execute_result"
    }
   ],
   "source": [
    "np.linspace(1, 4, num=4)"
   ]
  },
  {
   "cell_type": "markdown",
   "metadata": {},
   "source": [
    "`num=3`时"
   ]
  },
  {
   "cell_type": "markdown",
   "metadata": {},
   "source": [
    "![](./images/2.numpy数组创建_np.linspace3.png)"
   ]
  },
  {
   "cell_type": "code",
   "execution_count": 8,
   "metadata": {
    "ExecuteTime": {
     "end_time": "2021-11-30T01:58:22.967111Z",
     "start_time": "2021-11-30T01:58:22.954114Z"
    }
   },
   "outputs": [
    {
     "data": {
      "text/plain": [
       "array([1. , 2.5, 4. ])"
      ]
     },
     "execution_count": 8,
     "metadata": {},
     "output_type": "execute_result"
    }
   ],
   "source": [
    "np.linspace(1, 4, num=3)"
   ]
  },
  {
   "cell_type": "markdown",
   "metadata": {},
   "source": [
    "`num=2`时，生成的数组恰好是由起点和终点组成的"
   ]
  },
  {
   "cell_type": "markdown",
   "metadata": {},
   "source": [
    "![](./images/2.numpy数组创建_np.linspace4.png)"
   ]
  },
  {
   "cell_type": "code",
   "execution_count": 9,
   "metadata": {
    "ExecuteTime": {
     "end_time": "2021-11-30T01:58:22.991014Z",
     "start_time": "2021-11-30T01:58:22.976050Z"
    }
   },
   "outputs": [
    {
     "data": {
      "text/plain": [
       "array([1., 4.])"
      ]
     },
     "execution_count": 9,
     "metadata": {},
     "output_type": "execute_result"
    }
   ],
   "source": [
    "np.linspace(1, 4, num=2)"
   ]
  },
  {
   "cell_type": "markdown",
   "metadata": {},
   "source": [
    "`num=1`时，生成了一个只有起点的数组"
   ]
  },
  {
   "cell_type": "markdown",
   "metadata": {},
   "source": [
    "![](./images/2.numpy数组创建_np.linspace5.png)"
   ]
  },
  {
   "cell_type": "code",
   "execution_count": 10,
   "metadata": {
    "ExecuteTime": {
     "end_time": "2021-11-30T01:58:23.012951Z",
     "start_time": "2021-11-30T01:58:22.996995Z"
    }
   },
   "outputs": [
    {
     "data": {
      "text/plain": [
       "array([1.])"
      ]
     },
     "execution_count": 10,
     "metadata": {},
     "output_type": "execute_result"
    }
   ],
   "source": [
    "np.linspace(1, 4, num=1)"
   ]
  },
  {
   "cell_type": "markdown",
   "metadata": {},
   "source": [
    "## 全等数组\n",
    "\n",
    "以下3个函数创建的数组，所有数组元素均相等\n",
    "\n",
    "- `np.zeros()`: 生成一个全为0的一维或多维数组。\n",
    "- `np.ones()`: 生成一个全为1的一维或多维数组。\n",
    "- `np.full()`: 生成一个元素全部相等的一维或多维数组。"
   ]
  },
  {
   "cell_type": "markdown",
   "metadata": {},
   "source": [
    "### np.zeros()\n",
    "\n",
    ":book:[官方文档](https://numpy.org/doc/stable/reference/generated/numpy.zeros.html)\n",
    "\n",
    "```python\n",
    "numpy.zeros(shape, ...)\n",
    "```\n",
    "\n",
    "生成一个全为0的数组，使用频率也是很高的一个函数"
   ]
  },
  {
   "cell_type": "markdown",
   "metadata": {},
   "source": [
    "生成一个全为0的一维数组"
   ]
  },
  {
   "cell_type": "code",
   "execution_count": 11,
   "metadata": {
    "ExecuteTime": {
     "end_time": "2021-11-30T01:58:23.033895Z",
     "start_time": "2021-11-30T01:58:23.018936Z"
    }
   },
   "outputs": [
    {
     "data": {
      "text/plain": [
       "array([0., 0., 0., 0.])"
      ]
     },
     "execution_count": 11,
     "metadata": {},
     "output_type": "execute_result"
    }
   ],
   "source": [
    "np.zeros(shape=4)"
   ]
  },
  {
   "cell_type": "markdown",
   "metadata": {},
   "source": [
    "生成一个全为0的二维数组"
   ]
  },
  {
   "cell_type": "code",
   "execution_count": 12,
   "metadata": {
    "ExecuteTime": {
     "end_time": "2021-11-30T01:58:23.053843Z",
     "start_time": "2021-11-30T01:58:23.040878Z"
    }
   },
   "outputs": [
    {
     "data": {
      "text/plain": [
       "array([[0., 0., 0., 0.],\n",
       "       [0., 0., 0., 0.],\n",
       "       [0., 0., 0., 0.]])"
      ]
     },
     "execution_count": 12,
     "metadata": {},
     "output_type": "execute_result"
    }
   ],
   "source": [
    "np.zeros(shape=(3, 4))"
   ]
  },
  {
   "cell_type": "markdown",
   "metadata": {},
   "source": [
    "![](./images/2.numpy数组创建_np.zeros1.png)"
   ]
  },
  {
   "cell_type": "markdown",
   "metadata": {},
   "source": [
    "### np.ones()\n",
    "\n",
    ":book:[官方文档](https://numpy.org/doc/stable/reference/generated/numpy.ones.html)\n",
    "\n",
    "```python\n",
    "numpy.ones(shape, ...)\n",
    "```\n",
    "\n",
    "生成一个全为1的数组，与`np.zeros()`类似"
   ]
  },
  {
   "cell_type": "markdown",
   "metadata": {},
   "source": [
    "生成一个全为1的一维数组"
   ]
  },
  {
   "cell_type": "code",
   "execution_count": 13,
   "metadata": {
    "ExecuteTime": {
     "end_time": "2021-11-30T01:58:23.070797Z",
     "start_time": "2021-11-30T01:58:23.060825Z"
    }
   },
   "outputs": [
    {
     "data": {
      "text/plain": [
       "array([1., 1., 1., 1.])"
      ]
     },
     "execution_count": 13,
     "metadata": {},
     "output_type": "execute_result"
    }
   ],
   "source": [
    "np.ones(shape=4)"
   ]
  },
  {
   "cell_type": "markdown",
   "metadata": {},
   "source": [
    "生成一个全为1的二维数组"
   ]
  },
  {
   "cell_type": "code",
   "execution_count": 14,
   "metadata": {
    "ExecuteTime": {
     "end_time": "2021-11-30T01:58:23.089746Z",
     "start_time": "2021-11-30T01:58:23.076780Z"
    }
   },
   "outputs": [
    {
     "data": {
      "text/plain": [
       "array([[1., 1., 1., 1.],\n",
       "       [1., 1., 1., 1.],\n",
       "       [1., 1., 1., 1.]])"
      ]
     },
     "execution_count": 14,
     "metadata": {},
     "output_type": "execute_result"
    }
   ],
   "source": [
    "np.ones(shape=(3, 4))"
   ]
  },
  {
   "cell_type": "markdown",
   "metadata": {},
   "source": [
    "![](./images/2.numpy数组创建_np.ones1.png)"
   ]
  },
  {
   "cell_type": "markdown",
   "metadata": {},
   "source": [
    "### np.full()\n",
    "\n",
    ":book:[官方文档](https://numpy.org/doc/stable/reference/generated/numpy.full.html)\n",
    "\n",
    "```python\n",
    "numpy.full(shape, fill_value, ...)\n",
    "```\n",
    "\n",
    "生成一个全为某个数的数组，这个数也可以是字符型的。\n",
    "\n",
    "- shape: 数组的形状\n",
    "- fill_value: 数组的值"
   ]
  },
  {
   "cell_type": "markdown",
   "metadata": {},
   "source": [
    "生成一个全为2.4的一维数组"
   ]
  },
  {
   "cell_type": "code",
   "execution_count": 15,
   "metadata": {
    "ExecuteTime": {
     "end_time": "2021-11-30T01:58:23.112684Z",
     "start_time": "2021-11-30T01:58:23.095730Z"
    }
   },
   "outputs": [
    {
     "data": {
      "text/plain": [
       "array([2.4, 2.4, 2.4, 2.4])"
      ]
     },
     "execution_count": 15,
     "metadata": {},
     "output_type": "execute_result"
    }
   ],
   "source": [
    "np.full(shape=4, fill_value=2.4)"
   ]
  },
  {
   "cell_type": "markdown",
   "metadata": {},
   "source": [
    "生成一个全为`\"a\"`的二维数组"
   ]
  },
  {
   "cell_type": "code",
   "execution_count": 17,
   "metadata": {
    "ExecuteTime": {
     "end_time": "2021-11-30T01:58:23.131633Z",
     "start_time": "2021-11-30T01:58:23.117671Z"
    }
   },
   "outputs": [
    {
     "data": {
      "text/plain": [
       "array([['a', 'a', 'a', 'a'],\n",
       "       ['a', 'a', 'a', 'a'],\n",
       "       ['a', 'a', 'a', 'a']], dtype='<U1')"
      ]
     },
     "execution_count": 17,
     "metadata": {},
     "output_type": "execute_result"
    }
   ],
   "source": [
    "np.full(shape=(3, 4), fill_value='a')"
   ]
  },
  {
   "cell_type": "markdown",
   "metadata": {},
   "source": [
    "![](./images/2.numpy数组创建_np.full1.png)"
   ]
  },
  {
   "cell_type": "markdown",
   "metadata": {},
   "source": [
    "## 随机数组\n",
    "\n",
    "下面介绍5个常用的随机数组创建函数\n",
    "\n",
    "- `np.random.random()`: 生成一个**0到1之间**均匀分布的随机数组\n",
    "- `np.random.uniform()`: 生成一个**指定区间**均匀分布的随机数组\n",
    "- `np.random.randn()`: 生成一个**标准**正态分布的的随机数组\n",
    "- `np.random.normal()`: 生成一个**指定**正态分布的的随机数组\n",
    "- `np.random.randint()`: 生成一个指定区间范围的随机整数数组"
   ]
  },
  {
   "cell_type": "markdown",
   "metadata": {},
   "source": [
    "### np.random.random()\n",
    "\n",
    ":book:[官方文档](https://numpy.org/doc/stable/reference/random/generated/numpy.random.random.html)\n",
    "\n",
    "```python\n",
    "numpy.random.random(size)\n",
    "```\n",
    "\n",
    "生成一个0到1之间的随机数组\n",
    "\n",
    "- size: 数组的形状\n"
   ]
  },
  {
   "cell_type": "markdown",
   "metadata": {},
   "source": [
    "生成一个0到1之间的1维随机数组"
   ]
  },
  {
   "cell_type": "code",
   "execution_count": 18,
   "metadata": {
    "ExecuteTime": {
     "end_time": "2021-11-30T01:58:23.148592Z",
     "start_time": "2021-11-30T01:58:23.136620Z"
    }
   },
   "outputs": [
    {
     "data": {
      "text/plain": [
       "array([0.9155639 , 0.0879231 , 0.50418975, 0.79625964])"
      ]
     },
     "execution_count": 18,
     "metadata": {},
     "output_type": "execute_result"
    }
   ],
   "source": [
    "np.random.random(4)"
   ]
  },
  {
   "cell_type": "markdown",
   "metadata": {},
   "source": [
    "生成一个0到1之间的2维随机数组"
   ]
  },
  {
   "cell_type": "code",
   "execution_count": 19,
   "metadata": {
    "ExecuteTime": {
     "end_time": "2021-11-30T01:58:23.170529Z",
     "start_time": "2021-11-30T01:58:23.155570Z"
    }
   },
   "outputs": [
    {
     "data": {
      "text/plain": [
       "array([[0.29551936, 0.42407484, 0.65833207, 0.54675449],\n",
       "       [0.64280259, 0.42581316, 0.12087349, 0.72347867],\n",
       "       [0.36625864, 0.71585893, 0.24240265, 0.90152112]])"
      ]
     },
     "execution_count": 19,
     "metadata": {},
     "output_type": "execute_result"
    }
   ],
   "source": [
    "np.random.random((3, 4))"
   ]
  },
  {
   "cell_type": "markdown",
   "metadata": {},
   "source": [
    "### np.random.uniform()\n",
    "\n",
    ":book:[官方文档](https://numpy.org/doc/stable/reference/random/generated/numpy.random.uniform.html)\n",
    "\n",
    "```python\n",
    "numpy.random.uniform(low=0.0, high=1.0, size=None)\n",
    "```\n",
    "\n",
    "生成一个范围是`low`到`high`之间的随机数组\n",
    "\n",
    "- `low`: 数组的最小值\n",
    "- `high`: 数组的最大值\n",
    "- `size`: 数组的形状\n",
    "\n",
    "> 其实跟`np.random.random()`类似，就是多了控制范围的2个参数。"
   ]
  },
  {
   "cell_type": "markdown",
   "metadata": {},
   "source": [
    "生成一个2到5之间的1维随机数组"
   ]
  },
  {
   "cell_type": "code",
   "execution_count": 20,
   "metadata": {
    "ExecuteTime": {
     "end_time": "2021-11-30T01:58:23.148592Z",
     "start_time": "2021-11-30T01:58:23.136620Z"
    }
   },
   "outputs": [
    {
     "data": {
      "text/plain": [
       "array([4.46704977, 3.28453679, 3.8914482 , 4.23255661])"
      ]
     },
     "execution_count": 20,
     "metadata": {},
     "output_type": "execute_result"
    }
   ],
   "source": [
    "np.random.uniform(low=2, high=5, size=4)"
   ]
  },
  {
   "cell_type": "markdown",
   "metadata": {},
   "source": [
    "生成一个-3到3之间的2维随机数组"
   ]
  },
  {
   "cell_type": "code",
   "execution_count": 21,
   "metadata": {
    "ExecuteTime": {
     "end_time": "2021-11-30T01:58:23.170529Z",
     "start_time": "2021-11-30T01:58:23.155570Z"
    }
   },
   "outputs": [
    {
     "data": {
      "text/plain": [
       "array([[ 0.53919671,  2.70351516,  1.91513643, -0.0198369 ],\n",
       "       [ 2.43241932, -2.99126798, -2.1072604 , -1.95992406],\n",
       "       [ 2.23506767, -2.32354201,  1.18681695, -0.09019135]])"
      ]
     },
     "execution_count": 21,
     "metadata": {},
     "output_type": "execute_result"
    }
   ],
   "source": [
    "np.random.uniform(-3, 3, (3, 4))"
   ]
  },
  {
   "cell_type": "markdown",
   "metadata": {
    "tags": []
   },
   "source": [
    "### np.random.randn()\n",
    "\n",
    ":book:[官方文档](https://numpy.org/doc/stable/reference/random/generated/numpy.random.randn.html)\n",
    "\n",
    "```python\n",
    "numpy.random.randn(d0, d1, d2, ...)\n",
    "```\n",
    "\n",
    "生成一个均值为0方差为1的标准正态分布随机数组\n",
    "\n",
    "- `d0, d1, ...`: 数组的形状"
   ]
  },
  {
   "cell_type": "markdown",
   "metadata": {},
   "source": [
    "生成一个1维标准正态分布随机数组"
   ]
  },
  {
   "cell_type": "code",
   "execution_count": 22,
   "metadata": {
    "ExecuteTime": {
     "end_time": "2021-11-30T01:58:23.192474Z",
     "start_time": "2021-11-30T01:58:23.177512Z"
    }
   },
   "outputs": [
    {
     "data": {
      "text/plain": [
       "array([-0.97841294,  0.08917692,  0.05429765,  0.38660857])"
      ]
     },
     "execution_count": 22,
     "metadata": {},
     "output_type": "execute_result"
    }
   ],
   "source": [
    "np.random.randn(4)"
   ]
  },
  {
   "cell_type": "markdown",
   "metadata": {},
   "source": [
    "生成一个2维标准正态分布随机数组"
   ]
  },
  {
   "cell_type": "code",
   "execution_count": 23,
   "metadata": {
    "ExecuteTime": {
     "end_time": "2021-11-30T01:58:23.212416Z",
     "start_time": "2021-11-30T01:58:23.201450Z"
    }
   },
   "outputs": [
    {
     "data": {
      "text/plain": [
       "array([[ 1.64886552,  0.36417621,  0.77745513, -1.14481688],\n",
       "       [-1.0317714 , -0.13213342, -0.38355106, -1.09655604],\n",
       "       [ 1.5982574 ,  0.10802592, -1.94052385,  1.07061462]])"
      ]
     },
     "execution_count": 23,
     "metadata": {},
     "output_type": "execute_result"
    }
   ],
   "source": [
    "np.random.randn(3, 4)"
   ]
  },
  {
   "cell_type": "markdown",
   "metadata": {
    "tags": []
   },
   "source": [
    "### np.random.normal()\n",
    "\n",
    ":book:[官方文档](https://numpy.org/doc/stable/reference/random/generated/numpy.random.normal.html)\n",
    "\n",
    "```python\n",
    "numpy.random.normal(loc=0.0, scale=1.0, size=None)\n",
    "```\n",
    "\n",
    "生成一个均值为`loc`标准差为`scale`的正态分布随机数组\n",
    "\n",
    "- `loc`: 数组的均值\n",
    "- `scale`: 数组的标准差\n",
    "- `size`: 数组的形状"
   ]
  },
  {
   "cell_type": "markdown",
   "metadata": {},
   "source": [
    "生成一个均值为2，标准差为10的一维正态分布随机数组"
   ]
  },
  {
   "cell_type": "code",
   "execution_count": 24,
   "metadata": {
    "ExecuteTime": {
     "end_time": "2021-11-30T01:58:23.192474Z",
     "start_time": "2021-11-30T01:58:23.177512Z"
    }
   },
   "outputs": [
    {
     "data": {
      "text/plain": [
       "array([ 11.44176805, -18.58578423,  -0.1879512 ,  10.43410251])"
      ]
     },
     "execution_count": 24,
     "metadata": {},
     "output_type": "execute_result"
    }
   ],
   "source": [
    "np.random.normal(loc=2, scale=10, size=4)"
   ]
  },
  {
   "cell_type": "markdown",
   "metadata": {},
   "source": [
    "生成一个均值为-5，标准差为5的二维正态分布随机数组"
   ]
  },
  {
   "cell_type": "code",
   "execution_count": 25,
   "metadata": {
    "ExecuteTime": {
     "end_time": "2021-11-30T01:58:23.212416Z",
     "start_time": "2021-11-30T01:58:23.201450Z"
    }
   },
   "outputs": [
    {
     "data": {
      "text/plain": [
       "array([[  0.78720712,  -1.01289235,  -2.97885233,   0.42613163],\n",
       "       [ -6.00490185,  -0.71370871,   0.1223361 ,  -9.68017774],\n",
       "       [ -3.09613496, -10.65665833,  -3.89814507,  -0.69998495]])"
      ]
     },
     "execution_count": 25,
     "metadata": {},
     "output_type": "execute_result"
    }
   ],
   "source": [
    "np.random.normal(-5, 5, size=(3, 4))"
   ]
  },
  {
   "cell_type": "markdown",
   "metadata": {},
   "source": [
    "### np.random.randint()\n",
    "\n",
    ":book:[官方文档](https://numpy.org/doc/stable/reference/random/generated/numpy.random.randint.html)\n",
    "\n",
    "```python\n",
    "numpy.random.randint(low, high=None, size=None, ...)\n",
    "```\n",
    "\n",
    "生成一个指定区间`[low, high)`内的随机整数数组，**不包含最大值**\n",
    "\n",
    "- `low`: 最小值\n",
    "- `high`: 最大值，如果`high=None`，那默认生成的范围是`[0, low)`。否则生成的范围是`[low, high)`\n",
    "- `size`: 数组的形状"
   ]
  },
  {
   "cell_type": "markdown",
   "metadata": {},
   "source": [
    "生成一个0到5(不包含5)之间的随机一维整数数组"
   ]
  },
  {
   "cell_type": "code",
   "execution_count": 26,
   "metadata": {
    "ExecuteTime": {
     "end_time": "2021-11-30T01:58:23.234360Z",
     "start_time": "2021-11-30T01:58:23.217406Z"
    }
   },
   "outputs": [
    {
     "data": {
      "text/plain": [
       "array([0, 1, 3, 4, 3, 0, 2, 2])"
      ]
     },
     "execution_count": 26,
     "metadata": {},
     "output_type": "execute_result"
    }
   ],
   "source": [
    "# np.random.randint(0, 5, 8)  # 效果同下\n",
    "np.random.randint(5, size=8)"
   ]
  },
  {
   "cell_type": "markdown",
   "metadata": {},
   "source": [
    "生成一个1到8(不包含8)之间的随机二维整数数组"
   ]
  },
  {
   "cell_type": "code",
   "execution_count": 27,
   "metadata": {
    "ExecuteTime": {
     "end_time": "2021-11-30T01:58:23.254306Z",
     "start_time": "2021-11-30T01:58:23.238349Z"
    }
   },
   "outputs": [
    {
     "data": {
      "text/plain": [
       "array([[2, 6, 7, 4],\n",
       "       [3, 2, 5, 2],\n",
       "       [3, 4, 1, 4]])"
      ]
     },
     "execution_count": 27,
     "metadata": {},
     "output_type": "execute_result"
    }
   ],
   "source": [
    "np.random.randint(1, 8, (3, 4))"
   ]
  },
  {
   "cell_type": "markdown",
   "metadata": {},
   "source": [
    "## 小结\n",
    "\n",
    "![](./images/2.numpy数组创建_思维导图2.png)"
   ]
  }
 ],
 "metadata": {
  "kernelspec": {
   "display_name": "Python 3 (ipykernel)",
   "language": "python",
   "name": "python3"
  },
  "language_info": {
   "codemirror_mode": {
    "name": "ipython",
    "version": 3
   },
   "file_extension": ".py",
   "mimetype": "text/x-python",
   "name": "python",
   "nbconvert_exporter": "python",
   "pygments_lexer": "ipython3",
   "version": "3.8.5"
  },
  "toc": {
   "base_numbering": 1,
   "nav_menu": {},
   "number_sections": true,
   "sideBar": true,
   "skip_h1_title": false,
   "title_cell": "Table of Contents",
   "title_sidebar": "Contents",
   "toc_cell": false,
   "toc_position": {},
   "toc_section_display": true,
   "toc_window_display": true
  }
 },
 "nbformat": 4,
 "nbformat_minor": 4
}
